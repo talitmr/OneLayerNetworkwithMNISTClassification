{
  "nbformat": 4,
  "nbformat_minor": 0,
  "metadata": {
    "kernelspec": {
      "display_name": "Python 3.8.5 64-bit ('torch': conda)",
      "language": "python",
      "name": "python38564bittorchconda110fdf3d79be458e826cbc7e8f0d6e54"
    },
    "language_info": {
      "codemirror_mode": {
        "name": "ipython",
        "version": 3
      },
      "file_extension": ".py",
      "mimetype": "text/x-python",
      "name": "python",
      "nbconvert_exporter": "python",
      "pygments_lexer": "ipython3",
      "version": "3.8.5"
    },
    "colab": {
      "name": "One_Layer_Network_Classification_MNIST.ipynb",
      "provenance": [],
      "collapsed_sections": [],
      "include_colab_link": true
    },
    "accelerator": "GPU"
  },
  "cells": [
    {
      "cell_type": "markdown",
      "metadata": {
        "id": "view-in-github",
        "colab_type": "text"
      },
      "source": [
        "<a href=\"https://colab.research.google.com/github/talitmr/OneLayerNetworkwithMNISTClassification/blob/main/One_Layer_Network_Classification_MNIST.ipynb\" target=\"_parent\"><img src=\"https://colab.research.google.com/assets/colab-badge.svg\" alt=\"Open In Colab\"/></a>"
      ]
    },
    {
      "cell_type": "markdown",
      "source": [
        "## One Layer Network for Classification MNIST Dataset"
      ],
      "metadata": {
        "id": "zARP3Pcyl-H4"
      }
    },
    {
      "cell_type": "code",
      "metadata": {
        "id": "9E29VwQYRrKJ"
      },
      "source": [
        "import torch, torchvision\n",
        "from torch.utils.data import DataLoader\n",
        "import matplotlib.pyplot as plt\n",
        "import numpy as np"
      ],
      "execution_count": null,
      "outputs": []
    },
    {
      "cell_type": "code",
      "metadata": {
        "id": "CNsFmGXgRrKV",
        "outputId": "4c328ef5-714d-4a28-90e9-2a8987d03767",
        "colab": {
          "base_uri": "https://localhost:8080/",
          "height": 1000
        }
      },
      "source": [
        "#The MNIST dataset is about 12 MB and will be downloaded automatically if it is not located in the given path.\n",
        "mnist = torchvision.datasets.MNIST('./', train=True, download=True, transform=torchvision.transforms.ToTensor())\n",
        "\n",
        "#Helper for visualization\n",
        "def torch_imshow(img):\n",
        "    img = img[0]\n",
        "    plt.imshow(img.cpu().numpy())\n",
        "    plt.show()\n",
        "\n",
        "#Visualize first 5 samples\n",
        "for n in range(5):\n",
        "    sample = mnist[n]\n",
        "    img, label = sample\n",
        "    plt.figure()\n",
        "    plt.title(f'This is a {label}')\n",
        "    torch_imshow(img)\n"
      ],
      "execution_count": null,
      "outputs": [
        {
          "output_type": "display_data",
          "data": {
            "image/png": "[encoded data removed]",
            "text/plain": [
              "<Figure size 432x288 with 1 Axes>"
            ]
          },
          "metadata": {
            "tags": [],
            "needs_background": "light"
          }
        },
        {
          "output_type": "display_data",
          "data": {
            "image/png": "[encoded data removed]",
            "text/plain": [
              "<Figure size 432x288 with 1 Axes>"
            ]
          },
          "metadata": {
            "tags": [],
            "needs_background": "light"
          }
        },
        {
          "output_type": "display_data",
          "data": {
            "image/png": "[encoded data removed]",
            "text/plain": [
              "<Figure size 432x288 with 1 Axes>"
            ]
          },
          "metadata": {
            "tags": [],
            "needs_background": "light"
          }
        },
        {
          "output_type": "display_data",
          "data": {
            "image/png": "[encoded data removed]",
            "text/plain": [
              "<Figure size 432x288 with 1 Axes>"
            ]
          },
          "metadata": {
            "tags": [],
            "needs_background": "light"
          }
        },
        {
          "output_type": "display_data",
          "data": {
            "image/png": "[encoded data removed]",
            "text/plain": [
              "<Figure size 432x288 with 1 Axes>"
            ]
          },
          "metadata": {
            "tags": [],
            "needs_background": "light"
          }
        }
      ]
    },
    {
      "cell_type": "code",
      "metadata": {
        "id": "r8cZ0Q-7RrKa"
      },
      "source": [
        "## Create a dataloader that bundles the dataset with batch size of 16\n",
        "# You are free to shuffle data or not\n",
        "\n",
        "train_dataloader = DataLoader(mnist, batch_size=16, shuffle=True, num_workers=4)"
      ],
      "execution_count": null,
      "outputs": []
    },
    {
      "cell_type": "code",
      "metadata": {
        "id": "ke1RLnviRrKd",
        "outputId": "6871c200-3782-4ec1-e2aa-15660c067c44",
        "colab": {
          "base_uri": "https://localhost:8080/"
        }
      },
      "source": [
        "## Create a 1 layer fully connected network without any activation\n",
        "\n",
        "class OneLayerNetwork(torch.nn.Module):\n",
        "    def __init__(self):\n",
        "        super().__init__()\n",
        "        self.layer1 = torch.nn.Linear(28*28, 10)\n",
        "        \n",
        "    def forward(self, x):\n",
        "        x = self.layer1(x)\n",
        "        return x\n",
        "        \n",
        "one_layer_net = OneLayerNetwork().cuda()\n",
        "\n",
        "dummy_input = torch.randn(16, 784, device='cuda') #You can create tensors in GPU directly instead of .cuda()\n",
        "dummy_output = one_layer_net(dummy_input)\n",
        "\n",
        "print(f'Dummy input shape: {dummy_input.shape}')\n",
        "print(f'Dummy output shape: {dummy_output.shape}')"
      ],
      "execution_count": null,
      "outputs": [
        {
          "output_type": "stream",
          "text": [
            "Dummy input shape: torch.Size([16, 784])\n",
            "Dummy output shape: torch.Size([16, 10])\n"
          ],
          "name": "stdout"
        }
      ]
    },
    {
      "cell_type": "code",
      "metadata": {
        "id": "axOvFuehRrKg",
        "outputId": "74da6277-3b46-4b61-bd22-130e07755e83",
        "colab": {
          "base_uri": "https://localhost:8080/"
        }
      },
      "source": [
        "# Define an SGD optimizer with learning rate 0.001 to optimize the parameters of \"one_layer_net\"\n",
        "sgd_optimizer = torch.optim.SGD(params=one_layer_net.parameters(), lr=0.001)\n",
        "print(sgd_optimizer)"
      ],
      "execution_count": null,
      "outputs": [
        {
          "output_type": "stream",
          "text": [
            "SGD (\n",
            "Parameter Group 0\n",
            "    dampening: 0\n",
            "    lr: 0.001\n",
            "    momentum: 0\n",
            "    nesterov: False\n",
            "    weight_decay: 0\n",
            ")\n"
          ],
          "name": "stdout"
        }
      ]
    },
    {
      "cell_type": "code",
      "metadata": {
        "id": "VsqhjrD1RrKj"
      },
      "source": [
        "## Decide which loss function to use from torch.nn module and define it below\n",
        "# Hint: The network does 'not' include a softmax activation at the output.\n",
        "\n",
        "\n",
        "loss_fn = torch.nn.CrossEntropyLoss() ## FILL HERE ##"
      ],
      "execution_count": null,
      "outputs": []
    },
    {
      "cell_type": "code",
      "metadata": {
        "id": "iPfT8DXsRrKm"
      },
      "source": [
        "## Warning: If you run this cell multiple times, it will continue training\n",
        "## after the first run so the plots may not be correct. Make sure you are not\n",
        "## running this cell twice before restarting kernel.\n",
        "\n",
        "loss_list = [] #To plot loss graph later\n",
        "\n",
        "for train_images, train_labels in train_dataloader:\n",
        "    ## Move data to GPU\n",
        "    train_images, train_labels = train_images.cuda(), train_labels.cuda()\n",
        "    \n",
        "    ## Flatten the images from [BATCH, 1, 28, 28] to [BATCH, 784]\n",
        "    flat_images = train_images.reshape(-1, 784)\n",
        "    \n",
        "    ## Run the network with flattened images batch and obtain the class scores\n",
        "    class_scores = one_layer_net(flat_images)\n",
        "    \n",
        "    ## Calculate loss using the loss_fn defined above\n",
        "    loss = loss_fn(class_scores, train_labels)\n",
        "    loss_list.append(loss)\n",
        "    \n",
        "    ## Take an optimization step (don't forget to clear the gradients first)\n",
        "\n",
        "    sgd_optimizer.zero_grad()\n",
        "    loss.backward()\n",
        "    sgd_optimizer.step()\n",
        "    \n",
        "    \n",
        "    \n",
        "    \n",
        "    \n",
        "    "
      ],
      "execution_count": null,
      "outputs": []
    },
    {
      "cell_type": "code",
      "metadata": {
        "id": "j5B2KRHyRrKo",
        "outputId": "d5095246-6dcd-479c-8dc4-760ddba57bde",
        "colab": {
          "base_uri": "https://localhost:8080/",
          "height": 281
        }
      },
      "source": [
        "# Helper for plotting the loss graph smoothly. \n",
        "def plot_loss_graph(loss_list):\n",
        "    filter_size = 10\n",
        "    moving_average_filter = [1/filter_size] * filter_size\n",
        "    smoothed_loss_list = np.convolve(loss_list, moving_average_filter, 'valid') \n",
        "    plt.figure()\n",
        "    plt.xlabel('Iterations')\n",
        "    plt.ylabel('Loss')\n",
        "    plt.plot(smoothed_loss_list)\n",
        "    \n",
        "plot_loss_graph(loss_list)"
      ],
      "execution_count": null,
      "outputs": [
        {
          "output_type": "display_data",
          "data": {
            "image/png": "[encoded data removed]",
            "text/plain": [
              "<Figure size 432x288 with 1 Axes>"
            ]
          },
          "metadata": {
            "tags": [],
            "needs_background": "light"
          }
        }
      ]
    },
    {
      "cell_type": "code",
      "metadata": {
        "id": "Av4OqPE4RrKr",
        "outputId": "f2a717f8-2eaf-4d8a-a5cc-1fe69c8b771f",
        "colab": {
          "base_uri": "https://localhost:8080/"
        }
      },
      "source": [
        "## Test your network's accuracy on the test set\n",
        "\n",
        "# Prepare test set\n",
        "mnist_test = torchvision.datasets.MNIST('./', train=False, download=True, transform=torchvision.transforms.ToTensor())\n",
        "test_dataloader = DataLoader(mnist_test, batch_size=32, shuffle=False)\n",
        "\n",
        "\n",
        "true_predictions = 0\n",
        "false_predictions = 0\n",
        "for test_images, test_labels in test_dataloader:\n",
        "    ## Move batch to GPU\n",
        "    test_images, test_labels = test_images.cuda(), test_labels.cuda()\n",
        "    \n",
        "    ## Flatten the images from [BATCH, 1, 28, 28] to [BATCH, 784]\n",
        "    flat_images = test_images.reshape(-1, 784)\n",
        "    \n",
        "    ## Run the network with flattened images batch and obtain the class scores\n",
        "    class_scores = one_layer_net(flat_images)\n",
        "\n",
        "    ## Extract predictions from class_scores using torch.argmax() method\n",
        "    class_predictions = torch.argmax(class_scores,1) ## FILL HERE ##\n",
        "    \n",
        "    ## Find the number of true predictions in the batch using test_labels and class_predictions\n",
        "    true_predictions_batch  = torch.sum(class_predictions == test_labels)\n",
        "    false_predictions_batch = torch.sum(class_predictions != test_labels)\n",
        "    \n",
        "    true_predictions  += true_predictions_batch.item()\n",
        "    false_predictions += false_predictions_batch.item()\n",
        "\n",
        "accuracy = true_predictions / (true_predictions + false_predictions)\n",
        "print(f'Accuracy = {accuracy*100}%')\n",
        "     "
      ],
      "execution_count": null,
      "outputs": [
        {
          "output_type": "stream",
          "text": [
            "Accuracy = 83.39%\n"
          ],
          "name": "stdout"
        }
      ]
    }
  ]
}